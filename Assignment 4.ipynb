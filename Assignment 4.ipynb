{
 "cells": [
  {
   "cell_type": "code",
   "execution_count": 51,
   "id": "dd1874aa",
   "metadata": {},
   "outputs": [
    {
     "name": "stdout",
     "output_type": "stream",
     "text": [
      "Enter first number: 2\n",
      "Enter second number: 2\n",
      "Select option to calculate(+ - * / pow): +\n",
      "2.0 + 2.0 = 4.0\n",
      "want to do again? yes/no: yes\n",
      "Enter first number: 2\n",
      "Enter second number: 2\n",
      "Select option to calculate(+ - * / pow): -\n",
      "2.0 - 2.0 = 0.0\n",
      "want to do again? yes/no: yes\n",
      "Enter first number: 2\n",
      "Enter second number: 2\n",
      "Select option to calculate(+ - * / pow): *\n",
      "2.0 * 2.0 = 4.0\n",
      "want to do again? yes/no: yes\n",
      "Enter first number: 2\n",
      "Enter second number: 2\n",
      "Select option to calculate(+ - * / pow): /\n",
      "2.0 / 2.0 = 1.0\n",
      "want to do again? yes/no: yes\n",
      "Enter first number: 2\n",
      "Enter second number: 2\n",
      "Select option to calculate(+ - * / pow): pow\n",
      "2.0 pow 2.0 = 4.0\n",
      "want to do again? yes/no: yes\n",
      "Enter first number: 2\n",
      "Enter second number: 2\n",
      "Select option to calculate(+ - * / pow): #\n",
      "invalid Input\n",
      "Enter first number: 2\n",
      "Enter second number: 2\n",
      "Select option to calculate(+ - * / pow): +\n",
      "2.0 + 2.0 = 4.0\n",
      "want to do again? yes/no: no\n"
     ]
    }
   ],
   "source": [
    "#Q1\n",
    "\n",
    "def add(x,y):\n",
    "    return x+y\n",
    "def sub(x,y):\n",
    "    return x-y\n",
    "def mul(x,y):\n",
    "    return x*y\n",
    "def div(x,y):\n",
    "    return x/y\n",
    "\n",
    "\n",
    "\n",
    "while True:\n",
    "    num1 = float(input(\"Enter first number: \"))\n",
    "    num2 = float(input(\"Enter second number: \"))\n",
    "    option = input(\"Select option to calculate(+ - * / pow): \")\n",
    "    if option in ('+', '-','*','/','pow'):\n",
    "        if option == '+':\n",
    "            print(num1, \"+\", num2, \"=\", add(num1, num2))\n",
    "\n",
    "        elif option == '-':\n",
    "            print(num1, \"-\", num2, \"=\", sub(num1, num2))\n",
    "\n",
    "        elif option == '*':\n",
    "            print(num1, \"*\", num2, \"=\", mul(num1, num2))\n",
    "\n",
    "        elif option == '/':\n",
    "            print(num1, \"/\", num2, \"=\", div(num1, num2))\n",
    "\n",
    "        elif option == 'pow':\n",
    "            print(num1, \"pow\", num2, \"=\", pow(num1, num2))\n",
    "\n",
    "        next = input(\"want to do again? yes/no: \")\n",
    "        if next=='no':\n",
    "            break\n",
    "    else:\n",
    "        print(\"invalid Input\")\n"
   ]
  },
  {
   "cell_type": "code",
   "execution_count": 52,
   "id": "bbd5a324",
   "metadata": {},
   "outputs": [
    {
     "name": "stdout",
     "output_type": "stream",
     "text": [
      "['a', 'b', 3, 'd', 5]\n",
      "3\n",
      "5\n"
     ]
    }
   ],
   "source": [
    "#Q2\n",
    "\n",
    "list1=[\"a\",\"b\",3,\"d\",5]\n",
    "print(list1)\n",
    "for i in range(len(list1)):\n",
    "    value=list1[i]\n",
    "    if type(value)==int:\n",
    "        print(value)\n",
    "    else:\n",
    "        continue"
   ]
  },
  {
   "cell_type": "code",
   "execution_count": 53,
   "id": "a862ea4b",
   "metadata": {},
   "outputs": [
    {
     "name": "stdout",
     "output_type": "stream",
     "text": [
      "Current Dictionary {'name': 'Ahsan', 'Age': 23}\n",
      "Updated Dictionary {'name': 'Ahsan', 'Age': 23, 'City': 'Fsd'}\n",
      "Updated Dictionary {'name': 'Ahsan', 'Age': 23, 'City': 'Fsd', 'Country': 'Pak'}\n"
     ]
    }
   ],
   "source": [
    "#Q3\n",
    "\n",
    "dict = {\n",
    "    'name':'Ahsan',\n",
    "    'Age':23\n",
    "        }\n",
    "print(\"Current Dictionary\",dict)\n",
    "dict['City']='Fsd'\n",
    "print(\"Updated Dictionary\",dict)\n",
    "#or\n",
    "dict.update({'Country':'Pak'})\n",
    "print(\"Updated Dictionary\",dict)"
   ]
  },
  {
   "cell_type": "code",
   "execution_count": 55,
   "id": "d9c34de4",
   "metadata": {},
   "outputs": [
    {
     "name": "stdout",
     "output_type": "stream",
     "text": [
      "60\n"
     ]
    }
   ],
   "source": [
    "#Q4\n",
    "\n",
    "sum=0\n",
    "dict = {\n",
    "    'a':10,\n",
    "    'b':20,\n",
    "    'c':30\n",
    "}\n",
    "for i in dict.values():\n",
    "    sum = sum + i\n",
    "print(sum)\n",
    "#or\n",
    "#for dicts in dict:\n",
    "#    sum = sum + dict[dicts]\n",
    "#print(sum)\n"
   ]
  },
  {
   "cell_type": "code",
   "execution_count": 57,
   "id": "a2720ad8",
   "metadata": {},
   "outputs": [
    {
     "name": "stdout",
     "output_type": "stream",
     "text": [
      "[1, 22, 3, 1, 3, 35]\n",
      "Contain Duplicate\n",
      "{1, 3, 22, 35}\n",
      "---------------\n",
      "[1, 22, 3, 35]\n",
      "No Duplicate\n"
     ]
    }
   ],
   "source": [
    "#Q5\n",
    "\n",
    "list2 = [1,22,3,1,3,35]\n",
    "print(list2)\n",
    "if len(list2) != len(set(list2)):\n",
    "    print(\"Contain Duplicate\")\n",
    "    print(set(list2))\n",
    "else:\n",
    "    print(\"No Duplicate\")\n",
    "print(\"---------------\")\n",
    "list3 = [1,22,3,35]\n",
    "print(list3)\n",
    "if len(list3) != len(set(list3)):\n",
    "    print(\"Contain Duplicate\")\n",
    "    print(set(list3))\n",
    "else:\n",
    "    print(\"No Duplicate\")"
   ]
  },
  {
   "cell_type": "code",
   "execution_count": 58,
   "id": "05a537c1",
   "metadata": {},
   "outputs": [
    {
     "name": "stdout",
     "output_type": "stream",
     "text": [
      "Enter key to search: name\n",
      "dictionary is :  {'name': 'Ahsan', 'Age': 23, 'City': 'Fsd'}\n",
      "Index of find key is :  0\n"
     ]
    }
   ],
   "source": [
    "#Q6\n",
    "\n",
    "dict = {\n",
    "    'name':'Ahsan',\n",
    "    'Age':23,\n",
    "    'City':'Fsd'\n",
    "}\n",
    "search = input(\"Enter key to search: \")\n",
    "print(\"dictionary is : \",dict)\n",
    "res = list(dict.keys()).index(search)\n",
    "print(\"Index of find key is : \",res)"
   ]
  }
 ],
 "metadata": {
  "kernelspec": {
   "display_name": "Python 3",
   "language": "python",
   "name": "python3"
  },
  "language_info": {
   "codemirror_mode": {
    "name": "ipython",
    "version": 3
   },
   "file_extension": ".py",
   "mimetype": "text/x-python",
   "name": "python",
   "nbconvert_exporter": "python",
   "pygments_lexer": "ipython3",
   "version": "3.9.5"
  }
 },
 "nbformat": 4,
 "nbformat_minor": 5
}
