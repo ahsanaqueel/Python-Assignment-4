{
 "cells": [
  {
   "cell_type": "code",
   "execution_count": null,
   "id": "b9992841",
   "metadata": {},
   "outputs": [
    {
     "name": "stdout",
     "output_type": "stream",
     "text": [
      "Enter first number: 2\n",
      "Enter second number: 2\n",
      "Select option to calculate(+ - * / pow): 5\n",
      "invalid Input\n"
     ]
    }
   ],
   "source": [
    "#Q1\n",
    "\n",
    "def add(x,y):\n",
    "    return x+y\n",
    "def sub(x,y):\n",
    "    return x-y\n",
    "def mul(x,y):\n",
    "    return x*y\n",
    "def div(x,y):\n",
    "    return x/y\n",
    "\n",
    "\n",
    "\n",
    "while True:\n",
    "    num1 = float(input(\"Enter first number: \"))\n",
    "    num2 = float(input(\"Enter second number: \"))\n",
    "    option = input(\"Select option to calculate(+ - * / pow): \")\n",
    "    if option in ('+', '-','*','/','pow'):\n",
    "        if option == '+':\n",
    "            print(num1, \"+\", num2, \"=\", add(num1, num2))\n",
    "\n",
    "        elif option == '-':\n",
    "            print(num1, \"-\", num2, \"=\", sub(num1, num2))\n",
    "\n",
    "        elif option == '*':\n",
    "            print(num1, \"*\", num2, \"=\", mul(num1, num2))\n",
    "\n",
    "        elif option == '/':\n",
    "            print(num1, \"/\", num2, \"=\", div(num1, num2))\n",
    "\n",
    "        elif option == 'pow':\n",
    "            print(num1, \"pow\", num2, \"=\", pow(num1, num2))\n",
    "\n",
    "        next = input(\"want to do again? yes/no: \")\n",
    "        if next=='no':\n",
    "            break\n",
    "    else:\n",
    "        print(\"invalid Input\")\n"
   ]
  },
  {
   "cell_type": "code",
   "execution_count": 8,
   "id": "d4bd338c",
   "metadata": {},
   "outputs": [
    {
     "name": "stdout",
     "output_type": "stream",
     "text": [
      "['a', 'b', 3, 'd', 5]\n",
      "3\n",
      "5\n"
     ]
    }
   ],
   "source": [
    "#Q2\n",
    "\n",
    "list1=[\"a\",\"b\",3,\"d\",5]\n",
    "print(list1)\n",
    "for i in range(len(list1)):\n",
    "    value=list1[i]\n",
    "    if type(value)==int:\n",
    "        print(value)\n",
    "    else:\n",
    "        continue\n",
    "    "
   ]
  },
  {
   "cell_type": "code",
   "execution_count": 13,
   "id": "cf70c4fa",
   "metadata": {},
   "outputs": [
    {
     "name": "stdout",
     "output_type": "stream",
     "text": [
      "Current Dictionary {'name': 'Ahsan', 'Age': 23}\n",
      "Updated Dictionary {'name': 'Ahsan', 'Age': 23, 'City': 'Fsd'}\n",
      "Updated Dictionary {'name': 'Ahsan', 'Age': 23, 'City': 'Fsd', 'Country': 'Pak'}\n"
     ]
    }
   ],
   "source": [
    "#Q3\n",
    "\n",
    "dict = {\n",
    "    'name':'Ahsan',\n",
    "    'Age':23\n",
    "        }\n",
    "print(\"Current Dictionary\",dict)\n",
    "dict['City']='Fsd'\n",
    "print(\"Updated Dictionary\",dict)\n",
    "#or\n",
    "dict.update({'Country':'Pak'})\n",
    "print(\"Updated Dictionary\",dict)"
   ]
  },
  {
   "cell_type": "code",
   "execution_count": 28,
   "id": "224e07a2",
   "metadata": {},
   "outputs": [
    {
     "name": "stdout",
     "output_type": "stream",
     "text": [
      "60\n",
      "120\n"
     ]
    }
   ],
   "source": [
    "#Q4\n",
    "\n",
    "sum=0\n",
    "dict = {\n",
    "    'a':10,\n",
    "    'b':20,\n",
    "    'c':30\n",
    "}\n",
    "for i in dict.values():\n",
    "    sum = sum + i\n",
    "print(sum)\n",
    "#or\n",
    "for dicts in dict:\n",
    "    sum = sum + dict[dicts]\n",
    "print(sum)\n",
    "    "
   ]
  },
  {
   "cell_type": "code",
   "execution_count": 41,
   "id": "6e98a7ef",
   "metadata": {},
   "outputs": [
    {
     "name": "stdout",
     "output_type": "stream",
     "text": [
      "[1, 22, 3, 1, 3, 35]\n",
      "Contain Duplicate\n",
      "{1, 3, 22, 35}\n"
     ]
    }
   ],
   "source": [
    "#Q5\n",
    "\n",
    "list2 = [1,22,3,1,3,35]\n",
    "print(list2)\n",
    "if len(list2) != len(set(list2)):\n",
    "    print(\"Contain Duplicate\")\n",
    "    print(set(list2))\n",
    "else:\n",
    "    print(\"No Duplicate\")\n",
    "    "
   ]
  },
  {
   "cell_type": "code",
   "execution_count": 50,
   "id": "4162cd60",
   "metadata": {},
   "outputs": [
    {
     "name": "stdout",
     "output_type": "stream",
     "text": [
      "Enter key to search: City\n",
      "dictionary is :  {'name': 'Ahsan', 'Age': 23, 'City': 'Fsd'}\n",
      "Index of find key is :  2\n"
     ]
    }
   ],
   "source": [
    "#Q6\n",
    "\n",
    "dict = {\n",
    "    'name':'Ahsan',\n",
    "    'Age':23,\n",
    "    'City':'Fsd'\n",
    "}\n",
    "search = input(\"Enter key to search: \")\n",
    "print(\"dictionary is : \",dict)\n",
    "res = list(dict.keys()).index(search)\n",
    "print(\"Index of find key is : \",res)"
   ]
  },
  {
   "cell_type": "code",
   "execution_count": null,
   "id": "1adb82a4",
   "metadata": {},
   "outputs": [],
   "source": []
  },
  {
   "cell_type": "code",
   "execution_count": null,
   "id": "5b16f337",
   "metadata": {},
   "outputs": [],
   "source": []
  }
 ],
 "metadata": {
  "kernelspec": {
   "display_name": "Python 3",
   "language": "python",
   "name": "python3"
  },
  "language_info": {
   "codemirror_mode": {
    "name": "ipython",
    "version": 3
   },
   "file_extension": ".py",
   "mimetype": "text/x-python",
   "name": "python",
   "nbconvert_exporter": "python",
   "pygments_lexer": "ipython3",
   "version": "3.9.5"
  }
 },
 "nbformat": 4,
 "nbformat_minor": 5
}
